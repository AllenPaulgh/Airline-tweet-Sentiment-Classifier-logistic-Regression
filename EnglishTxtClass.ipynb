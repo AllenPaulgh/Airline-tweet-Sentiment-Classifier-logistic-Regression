{
 "cells": [
  {
   "cell_type": "markdown",
   "metadata": {},
   "source": [
    "# Imports"
   ]
  },
  {
   "cell_type": "code",
   "execution_count": 1,
   "metadata": {
    "collapsed": true
   },
   "outputs": [
    {
     "ename": "ModuleNotFoundError",
     "evalue": "No module named 'spacy'",
     "output_type": "error",
     "traceback": [
      "\u001b[1;31m---------------------------------------------------------------------------\u001b[0m",
      "\u001b[1;31mModuleNotFoundError\u001b[0m                       Traceback (most recent call last)",
      "\u001b[1;32m<ipython-input-1-ca9c9fb951cb>\u001b[0m in \u001b[0;36m<module>\u001b[1;34m\u001b[0m\n\u001b[0;32m      1\u001b[0m \u001b[1;32mimport\u001b[0m \u001b[0mpandas\u001b[0m \u001b[1;32mas\u001b[0m \u001b[0mpd\u001b[0m\u001b[1;33m\u001b[0m\u001b[1;33m\u001b[0m\u001b[0m\n\u001b[1;32m----> 2\u001b[1;33m \u001b[1;32mimport\u001b[0m \u001b[0mspacy\u001b[0m\u001b[1;33m\u001b[0m\u001b[1;33m\u001b[0m\u001b[0m\n\u001b[0m\u001b[0;32m      3\u001b[0m \u001b[1;32mimport\u001b[0m \u001b[0mstring\u001b[0m\u001b[1;33m\u001b[0m\u001b[1;33m\u001b[0m\u001b[0m\n\u001b[0;32m      4\u001b[0m \u001b[1;32mimport\u001b[0m \u001b[0mnumpy\u001b[0m \u001b[1;32mas\u001b[0m \u001b[0mnp\u001b[0m\u001b[1;33m\u001b[0m\u001b[1;33m\u001b[0m\u001b[0m\n\u001b[0;32m      5\u001b[0m \u001b[1;32mimport\u001b[0m \u001b[0mre\u001b[0m\u001b[1;33m\u001b[0m\u001b[1;33m\u001b[0m\u001b[0m\n",
      "\u001b[1;31mModuleNotFoundError\u001b[0m: No module named 'spacy'"
     ]
    }
   ],
   "source": [
    "import pandas as pd\n",
    "import spacy\n",
    "import string\n",
    "import numpy as np\n",
    "import re\n",
    "from collections import Counter\n",
    "import nltk\n",
    "from nltk.corpus import stopwords\n",
    "from nltk.tokenize import word_tokenize\n",
    "import random\n",
    "from sklearn.pipeline import Pipeline \n",
    "from sklearn.linear_model import LogisticRegression\n",
    "from sklearn.feature_extraction.text import CountVectorizer\n",
    "from sklearn.model_selection import train_test_split \n",
    "from sklearn.metrics import classification_report"
   ]
  },
  {
   "cell_type": "code",
   "execution_count": null,
   "metadata": {
    "collapsed": true
   },
   "outputs": [],
   "source": [
    "ps = nltk.PorterStemmer()\n",
    "stop_words=stopwords.words('english')\n",
    "print(stop_words)"
   ]
  },
  {
   "cell_type": "markdown",
   "metadata": {},
   "source": [
    "# HelperFunctions"
   ]
  },
  {
   "cell_type": "code",
   "execution_count": null,
   "metadata": {
    "collapsed": true
   },
   "outputs": [],
   "source": [
    "class spacy_ops_en(object):\n",
    "    def __init__(self):\n",
    "        self.nlp = spacy.load('en_core_web_sm')\n",
    "    def __call__(self, some_text):\n",
    "        doc = self.nlp(some_text)\n",
    "        return [token.text for token in doc]"
   ]
  },
  {
   "cell_type": "markdown",
   "metadata": {},
   "source": [
    "# Model"
   ]
  },
  {
   "cell_type": "code",
   "execution_count": null,
   "metadata": {
    "collapsed": true
   },
   "outputs": [],
   "source": [
    "text_clf = Pipeline([\n",
    "    ('vect',CountVectorizer(\n",
    "    ngram_range=(3,3),\n",
    "    max_features=1000,\n",
    "    lowercase=False,\n",
    "    binary=True,\n",
    "    tokenizer=spacy_ops_en()\n",
    "    )),\n",
    "   \n",
    "    \n",
    "    ('clf', LogisticRegression(\n",
    "        random_state = 1,\n",
    "        solver = 'saga',\n",
    "        multi_class= 'ovr',\n",
    "        max_iter=10000\n",
    "    ))\n",
    "    \n",
    "   \n",
    "])\n"
   ]
  },
  {
   "cell_type": "markdown",
   "metadata": {},
   "source": [
    "# Data"
   ]
  },
  {
   "cell_type": "code",
   "execution_count": null,
   "metadata": {
    "collapsed": true
   },
   "outputs": [],
   "source": [
    "data_source_url = \"https://raw.githubusercontent.com/kolaveridi/kaggle-Twitter-US-Airline-Sentiment-/master/Tweets.csv\"\n",
    "airline_tweets = pd.read_csv(data_source_url)\n",
    "airline_tweets.head()"
   ]
  },
  {
   "cell_type": "code",
   "execution_count": null,
   "metadata": {
    "collapsed": true
   },
   "outputs": [],
   "source": [
    "CLASS_SIZE= min(Counter(airline_tweets.airline_sentiment).values())\n",
    "airline_tweets = pd.concat([airline_tweets[airline_tweets['airline_sentiment']==\"positive\"][:CLASS_SIZE],\n",
    "                  airline_tweets[airline_tweets['airline_sentiment']==\"negative\"][:CLASS_SIZE],\n",
    "                  airline_tweets[airline_tweets['airline_sentiment']==\"neutral\"][:CLASS_SIZE]])\n",
    " \n",
    "print(Counter(airline_tweets.airline_sentiment))"
   ]
  },
  {
   "cell_type": "code",
   "execution_count": null,
   "metadata": {
    "collapsed": true
   },
   "outputs": [],
   "source": [
    "features = airline_tweets[\"text\"].values\n",
    "labels = airline_tweets[\"airline_sentiment\"].values\n",
    "\n",
    "assert len(features)==len(labels)\n",
    "\n",
    "#datasplit, train and test sets\n",
    "from sklearn.model_selection import train_test_split \n",
    "X_train, X_test, Y_train, Y_test  = train_test_split(features, labels, test_size=0.2, stratify=labels, random_state=882)"
   ]
  },
  {
   "cell_type": "code",
   "execution_count": null,
   "metadata": {
    "collapsed": true
   },
   "outputs": [],
   "source": [
    "print(X_train[0])\n",
    "print(X_test[0])\n",
    "print(Y_train[0])\n",
    "print(Y_test[0])\n"
   ]
  },
  {
   "cell_type": "markdown",
   "metadata": {},
   "source": [
    "# Training"
   ]
  },
  {
   "cell_type": "code",
   "execution_count": null,
   "metadata": {
    "collapsed": true
   },
   "outputs": [],
   "source": [
    "text_clf.fit(X_train,Y_train)"
   ]
  },
  {
   "cell_type": "code",
   "execution_count": null,
   "metadata": {
    "collapsed": true
   },
   "outputs": [],
   "source": [
    "predictions = text_clf.predict(X_test)"
   ]
  },
  {
   "cell_type": "code",
   "execution_count": null,
   "metadata": {
    "collapsed": true
   },
   "outputs": [],
   "source": [
    "print(classification_report(y_true=Y_test, y_pred=predictions))"
   ]
  },
  {
   "cell_type": "code",
   "execution_count": null,
   "metadata": {
    "collapsed": true
   },
   "outputs": [],
   "source": [
    "print(\"\\n\\nFEATURES\\n\\n\")\n",
    "clf_features = np.array(text_clf.get_params()['vect'].get_feature_names())\n",
    "clf_coeffs_headline = text_clf.get_params()['clf'].coef_[2]\n",
    "clf_coeffs_domestic = text_clf.get_params()['clf'].coef_[1]\n",
    "clf_coeffs_international = text_clf.get_params()['clf'].coef_[0]\n",
    "k = 25\n",
    "highest_headline_features = clf_coeffs_headline.argsort()[-k:][::-1]\n",
    "highest_domestic_features = clf_coeffs_domestic.argsort()[-k:][::-1]\n",
    "highest_international_features = clf_coeffs_international.argsort()[-k:][::-1]\n",
    "print(\"\\n{} Strongest feats for marking something 'Positive'\\n\\n\".format(k))\n",
    "for rank, feat in enumerate(clf_features[highest_headline_features]):\n",
    "    print(feat)\n",
    "    \n",
    "print(\"\\n{} Strongest feats for marking something 'Neutral'\\n\\n\".format(k))\n",
    "for rank, feat in enumerate(clf_features[highest_domestic_features]):\n",
    "    print(feat)\n",
    "    \n",
    "print(\"\\n{} Strongest feats for marking something 'Negative'\\n\\n\".format(k))\n",
    "for rank, feat in enumerate(clf_features[highest_international_features]):\n",
    "    print(feat)"
   ]
  }
 ],
 "metadata": {
  "kernelspec": {
   "display_name": "Python 3",
   "language": "python",
   "name": "python3"
  },
  "language_info": {
   "codemirror_mode": {
    "name": "ipython",
    "version": 3
   },
   "file_extension": ".py",
   "mimetype": "text/x-python",
   "name": "python",
   "nbconvert_exporter": "python",
   "pygments_lexer": "ipython3",
   "version": "3.7.3"
  }
 },
 "nbformat": 4,
 "nbformat_minor": 4
}
